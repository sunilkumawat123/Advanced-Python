{
 "cells": [
  {
   "cell_type": "code",
   "execution_count": 1,
   "id": "56f21467",
   "metadata": {},
   "outputs": [],
   "source": [
    "# numpy ===> numpy is an open source lirary that is used for scietific calculation"
   ]
  },
  {
   "cell_type": "code",
   "execution_count": 2,
   "id": "18a9deb0",
   "metadata": {},
   "outputs": [],
   "source": [
    "# why we use numpy whenever we have list?\n",
    "# 1. Hompgeneous data type\n",
    "# 2. memory less cosume\n",
    "# 3. less time consume"
   ]
  },
  {
   "cell_type": "code",
   "execution_count": 3,
   "id": "a27f2d8a",
   "metadata": {},
   "outputs": [
    {
     "name": "stdout",
     "output_type": "stream",
     "text": [
      "Defaulting to user installation because normal site-packages is not writeable\n",
      "Requirement already satisfied: numpy in c:\\programdata\\anaconda3\\lib\\site-packages (1.23.5)\n"
     ]
    }
   ],
   "source": [
    "! pip install numpy"
   ]
  },
  {
   "cell_type": "code",
   "execution_count": 4,
   "id": "2795a4a8",
   "metadata": {},
   "outputs": [],
   "source": [
    "import numpy as np"
   ]
  },
  {
   "cell_type": "code",
   "execution_count": 5,
   "id": "70f468d8",
   "metadata": {},
   "outputs": [
    {
     "data": {
      "text/plain": [
       "list"
      ]
     },
     "execution_count": 5,
     "metadata": {},
     "output_type": "execute_result"
    }
   ],
   "source": [
    "a=[12,23,34]\n",
    "type(a)"
   ]
  },
  {
   "cell_type": "code",
   "execution_count": 6,
   "id": "8c31f902",
   "metadata": {},
   "outputs": [
    {
     "name": "stdout",
     "output_type": "stream",
     "text": [
      "[12 23 34]\n",
      "<class 'numpy.ndarray'>\n"
     ]
    }
   ],
   "source": [
    "b=np.array(a)\n",
    "print(b)\n",
    "print(type(b))"
   ]
  },
  {
   "cell_type": "code",
   "execution_count": 7,
   "id": "46ddbbeb",
   "metadata": {},
   "outputs": [],
   "source": [
    "# # Dimesion ===>\n",
    "# 1-D ===> element exists in x- direction\n",
    "# 2-D ===> element exists in x and y direction\n",
    "# 3-D ===> element exists in x,y,z direction"
   ]
  },
  {
   "cell_type": "code",
   "execution_count": 8,
   "id": "1586c845",
   "metadata": {},
   "outputs": [
    {
     "name": "stdout",
     "output_type": "stream",
     "text": [
      "total shape: (3,)\n"
     ]
    }
   ],
   "source": [
    "print(\"total shape:\",b.shape)"
   ]
  },
  {
   "cell_type": "code",
   "execution_count": 9,
   "id": "18633ce2",
   "metadata": {},
   "outputs": [
    {
     "name": "stdout",
     "output_type": "stream",
     "text": [
      "Total element: 3\n"
     ]
    }
   ],
   "source": [
    "print(\"Total element:\",b.size)  #size= n(rows) * n(column)"
   ]
  },
  {
   "cell_type": "code",
   "execution_count": 10,
   "id": "e6daebfa",
   "metadata": {},
   "outputs": [
    {
     "name": "stdout",
     "output_type": "stream",
     "text": [
      "total Dimension: 1\n"
     ]
    }
   ],
   "source": [
    "print(\"total Dimension:\",b.ndim)  # ndim is reffer to dimension of array"
   ]
  },
  {
   "cell_type": "code",
   "execution_count": 11,
   "id": "f1c0b3d9",
   "metadata": {},
   "outputs": [
    {
     "data": {
      "text/plain": [
       "[[1, 2, 3], [4, 5, 6], [7, 8, 9]]"
      ]
     },
     "execution_count": 11,
     "metadata": {},
     "output_type": "execute_result"
    }
   ],
   "source": [
    "a=[[1,2,3],[4,5,6],[7,8,9]]\n",
    "a"
   ]
  },
  {
   "cell_type": "code",
   "execution_count": 12,
   "id": "e7344e79",
   "metadata": {},
   "outputs": [
    {
     "name": "stdout",
     "output_type": "stream",
     "text": [
      "[[1 2 3]\n",
      " [4 5 6]\n",
      " [7 8 9]]\n"
     ]
    },
    {
     "data": {
      "text/plain": [
       "(3, 3)"
      ]
     },
     "execution_count": 12,
     "metadata": {},
     "output_type": "execute_result"
    }
   ],
   "source": [
    "b=np.array(a)\n",
    "print(b)\n",
    "b.shape"
   ]
  },
  {
   "cell_type": "code",
   "execution_count": 13,
   "id": "ea9662c2",
   "metadata": {},
   "outputs": [
    {
     "name": "stdout",
     "output_type": "stream",
     "text": [
      "total shape: (3, 3)\n",
      "Total element: 9\n",
      "total Dimension: 2\n"
     ]
    }
   ],
   "source": [
    "print(\"total shape:\",b.shape)\n",
    "print(\"Total element:\",b.size)  #size= n(rows) * n(column)\n",
    "print(\"total Dimension:\",b.ndim)  # ndim is reffer to dimension of array"
   ]
  },
  {
   "cell_type": "markdown",
   "id": "f599bb5f",
   "metadata": {},
   "source": [
    "## create a user defined array"
   ]
  },
  {
   "cell_type": "code",
   "execution_count": 14,
   "id": "e02fcec3",
   "metadata": {},
   "outputs": [
    {
     "name": "stdout",
     "output_type": "stream",
     "text": [
      "enter size: 4\n",
      "enter value 3\n",
      "enter value 23\n",
      "enter value 12\n",
      "enter value 12\n"
     ]
    },
    {
     "data": {
      "text/plain": [
       "array([ 3, 23, 12, 12])"
      ]
     },
     "execution_count": 14,
     "metadata": {},
     "output_type": "execute_result"
    }
   ],
   "source": [
    "a=[]\n",
    "size=int(input(\"enter size: \"))\n",
    "for i in range(size):\n",
    "    val=int(input(\"enter value \"))\n",
    "    a.append(val)\n",
    "b=np.array(a)\n",
    "b"
   ]
  },
  {
   "cell_type": "code",
   "execution_count": null,
   "id": "a83aa47d",
   "metadata": {},
   "outputs": [],
   "source": []
  },
  {
   "cell_type": "markdown",
   "id": "38f99dc0",
   "metadata": {},
   "source": [
    "## Numpy  functions"
   ]
  },
  {
   "cell_type": "code",
   "execution_count": 15,
   "id": "839c21a4",
   "metadata": {},
   "outputs": [],
   "source": [
    "# # image==> pixels(0-255)px ==> opx(white) ==> normalize==> (0-1)px\n",
    "\n",
    "# # (a). black and white image ==> hight, width\n",
    "# # (B). colourful image ==> height, width, coloe_channel(red,green,blue)\n",
    "\n",
    "# # #matrix ===> n(rows) = n(columns) ==> symmatric matrix , n(r)!= n(c) ==> Asymmatric matrix\n",
    "\n",
    "# # random number generator ==> random module\n",
    "# # data science==> simple line equation= y=mx+b  #3 (x,y)= co-ordinates, m=weigth, b=intercept\n",
    "\n",
    "# matrix => row,column\n",
    "# matrix= digonal positional element =[(1,1),(2,2,),(3,3),...,(n,n)]\n"
   ]
  },
  {
   "cell_type": "markdown",
   "id": "98004dc2",
   "metadata": {},
   "source": [
    "## 1. zeros(). => it will create an array in hich all the values are 0\n"
   ]
  },
  {
   "cell_type": "code",
   "execution_count": 16,
   "id": "1360d411",
   "metadata": {},
   "outputs": [
    {
     "data": {
      "text/plain": [
       "array([0., 0., 0.])"
      ]
     },
     "execution_count": 16,
     "metadata": {},
     "output_type": "execute_result"
    }
   ],
   "source": [
    "a=np.zeros(3)\n",
    "a"
   ]
  },
  {
   "cell_type": "code",
   "execution_count": 17,
   "id": "7302a986",
   "metadata": {},
   "outputs": [
    {
     "data": {
      "text/plain": [
       "array([[0., 0., 0.],\n",
       "       [0., 0., 0.]])"
      ]
     },
     "execution_count": 17,
     "metadata": {},
     "output_type": "execute_result"
    }
   ],
   "source": [
    "a=np.zeros((2,3))\n",
    "a"
   ]
  },
  {
   "cell_type": "markdown",
   "id": "747880b5",
   "metadata": {},
   "source": [
    "## 2. ones(). => it will create an array in which all the values are 1."
   ]
  },
  {
   "cell_type": "code",
   "execution_count": 18,
   "id": "df981c6d",
   "metadata": {},
   "outputs": [
    {
     "data": {
      "text/plain": [
       "array([1., 1., 1.])"
      ]
     },
     "execution_count": 18,
     "metadata": {},
     "output_type": "execute_result"
    }
   ],
   "source": [
    "a=np.ones(3)\n",
    "a"
   ]
  },
  {
   "cell_type": "code",
   "execution_count": 19,
   "id": "53d69aea",
   "metadata": {},
   "outputs": [
    {
     "data": {
      "text/plain": [
       "array([[1., 1., 1.],\n",
       "       [1., 1., 1.]])"
      ]
     },
     "execution_count": 19,
     "metadata": {},
     "output_type": "execute_result"
    }
   ],
   "source": [
    "a=np.ones((2,3))\n",
    "a"
   ]
  },
  {
   "cell_type": "code",
   "execution_count": 20,
   "id": "5d3acdb6",
   "metadata": {},
   "outputs": [
    {
     "data": {
      "text/plain": [
       "(2, 3)"
      ]
     },
     "execution_count": 20,
     "metadata": {},
     "output_type": "execute_result"
    }
   ],
   "source": [
    "a.shape"
   ]
  },
  {
   "cell_type": "markdown",
   "id": "fe68a118",
   "metadata": {},
   "source": [
    "## 3. eye(). => it will create an array in which digonal positional element are 1 and rest all are 0."
   ]
  },
  {
   "cell_type": "code",
   "execution_count": 21,
   "id": "7ca05e83",
   "metadata": {},
   "outputs": [
    {
     "data": {
      "text/plain": [
       "array([[1., 0., 0.],\n",
       "       [0., 1., 0.],\n",
       "       [0., 0., 1.]])"
      ]
     },
     "execution_count": 21,
     "metadata": {},
     "output_type": "execute_result"
    }
   ],
   "source": [
    "a=np.eye(3)\n",
    "a"
   ]
  },
  {
   "cell_type": "code",
   "execution_count": 22,
   "id": "0724738b",
   "metadata": {},
   "outputs": [
    {
     "data": {
      "text/plain": [
       "array([[1., 0., 0., 0.],\n",
       "       [0., 1., 0., 0.],\n",
       "       [0., 0., 1., 0.]])"
      ]
     },
     "execution_count": 22,
     "metadata": {},
     "output_type": "execute_result"
    }
   ],
   "source": [
    "a=np.eye(3,4)\n",
    "a"
   ]
  },
  {
   "cell_type": "markdown",
   "id": "146345be",
   "metadata": {},
   "source": [
    "## 4. diag()  => it will create an array in which we can customize our diagonal positional elements "
   ]
  },
  {
   "cell_type": "code",
   "execution_count": 23,
   "id": "d895f0fd",
   "metadata": {},
   "outputs": [
    {
     "data": {
      "text/plain": [
       "array([[ 1,  0,  0,  0],\n",
       "       [ 0, 23,  0,  0],\n",
       "       [ 0,  0, 34,  0],\n",
       "       [ 0,  0,  0, 45]])"
      ]
     },
     "execution_count": 23,
     "metadata": {},
     "output_type": "execute_result"
    }
   ],
   "source": [
    "a=np.diag([1,23,34,45])\n",
    "a"
   ]
  },
  {
   "cell_type": "markdown",
   "id": "04e281ba",
   "metadata": {},
   "source": [
    "## random module"
   ]
  },
  {
   "cell_type": "code",
   "execution_count": 24,
   "id": "4b5e95b6",
   "metadata": {},
   "outputs": [],
   "source": [
    "#  random module\n",
    "# 1. otp generation\n",
    "# 2. dataset => 1 dumy column add\n",
    "# 3. rando;y weights initialize"
   ]
  },
  {
   "cell_type": "code",
   "execution_count": 25,
   "id": "ed773f49",
   "metadata": {},
   "outputs": [],
   "source": [
    "# 1. randint( min_num,max_num, total_num)"
   ]
  },
  {
   "cell_type": "code",
   "execution_count": 26,
   "id": "7b193cf4",
   "metadata": {},
   "outputs": [
    {
     "data": {
      "text/plain": [
       "array([8, 5, 6, 5])"
      ]
     },
     "execution_count": 26,
     "metadata": {},
     "output_type": "execute_result"
    }
   ],
   "source": [
    "a=np.random.randint(1,10,4)\n",
    "a"
   ]
  },
  {
   "cell_type": "code",
   "execution_count": 27,
   "id": "07c2d63a",
   "metadata": {},
   "outputs": [],
   "source": [
    "# 2. rand(total_num) => it will return numbers from 0 to 1\n"
   ]
  },
  {
   "cell_type": "code",
   "execution_count": 28,
   "id": "1d3c8e12",
   "metadata": {},
   "outputs": [
    {
     "data": {
      "text/plain": [
       "array([0.87025129, 0.85004328, 0.83263681, 0.04323869, 0.83384669])"
      ]
     },
     "execution_count": 28,
     "metadata": {},
     "output_type": "execute_result"
    }
   ],
   "source": [
    "a=np.random.rand(5)\n",
    "a"
   ]
  },
  {
   "cell_type": "code",
   "execution_count": 29,
   "id": "a4cdcddc",
   "metadata": {},
   "outputs": [],
   "source": [
    "# 3. randn() ==> -3 to 3\n"
   ]
  },
  {
   "cell_type": "code",
   "execution_count": 30,
   "id": "09d9dc9b",
   "metadata": {},
   "outputs": [
    {
     "data": {
      "text/plain": [
       "array([-0.49612615, -0.2458543 , -1.33424675,  0.94433106, -0.49443364])"
      ]
     },
     "execution_count": 30,
     "metadata": {},
     "output_type": "execute_result"
    }
   ],
   "source": [
    "a=np.random.randn(5)\n",
    "a"
   ]
  },
  {
   "cell_type": "code",
   "execution_count": 31,
   "id": "5e7d4145",
   "metadata": {},
   "outputs": [],
   "source": [
    "# 4. seed() ==> it will fix our data once the data has been generated"
   ]
  },
  {
   "cell_type": "code",
   "execution_count": 32,
   "id": "5170577d",
   "metadata": {},
   "outputs": [
    {
     "data": {
      "text/plain": [
       "array([9, 9, 7, 3])"
      ]
     },
     "execution_count": 32,
     "metadata": {},
     "output_type": "execute_result"
    }
   ],
   "source": [
    "np.random.seed(2)\n",
    "a=np.random.randint(1,10,4)\n",
    "a"
   ]
  },
  {
   "cell_type": "code",
   "execution_count": null,
   "id": "9897f1dd",
   "metadata": {},
   "outputs": [],
   "source": []
  }
 ],
 "metadata": {
  "kernelspec": {
   "display_name": "Python 3 (ipykernel)",
   "language": "python",
   "name": "python3"
  },
  "language_info": {
   "codemirror_mode": {
    "name": "ipython",
    "version": 3
   },
   "file_extension": ".py",
   "mimetype": "text/x-python",
   "name": "python",
   "nbconvert_exporter": "python",
   "pygments_lexer": "ipython3",
   "version": "3.10.9"
  }
 },
 "nbformat": 4,
 "nbformat_minor": 5
}
