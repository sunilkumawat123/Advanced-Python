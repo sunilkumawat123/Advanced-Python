{
 "cells": [
  {
   "cell_type": "code",
   "execution_count": 1,
   "id": "204e708c",
   "metadata": {},
   "outputs": [],
   "source": [
    "import pandas as pd\n",
    "import numpy as np"
   ]
  },
  {
   "cell_type": "code",
   "execution_count": 2,
   "id": "d6f05123",
   "metadata": {},
   "outputs": [],
   "source": [
    "df=pd.read_csv('C:\\\\Users\\\\asd\\\\Downloads\\\\covid_toy.csv')"
   ]
  },
  {
   "cell_type": "code",
   "execution_count": 3,
   "id": "35d9b9d1",
   "metadata": {},
   "outputs": [
    {
     "data": {
      "text/html": [
       "<div>\n",
       "<style scoped>\n",
       "    .dataframe tbody tr th:only-of-type {\n",
       "        vertical-align: middle;\n",
       "    }\n",
       "\n",
       "    .dataframe tbody tr th {\n",
       "        vertical-align: top;\n",
       "    }\n",
       "\n",
       "    .dataframe thead th {\n",
       "        text-align: right;\n",
       "    }\n",
       "</style>\n",
       "<table border=\"1\" class=\"dataframe\">\n",
       "  <thead>\n",
       "    <tr style=\"text-align: right;\">\n",
       "      <th></th>\n",
       "      <th>age</th>\n",
       "      <th>gender</th>\n",
       "      <th>fever</th>\n",
       "      <th>cough</th>\n",
       "      <th>city</th>\n",
       "      <th>has_covid</th>\n",
       "    </tr>\n",
       "  </thead>\n",
       "  <tbody>\n",
       "    <tr>\n",
       "      <th>0</th>\n",
       "      <td>60</td>\n",
       "      <td>Male</td>\n",
       "      <td>103.0</td>\n",
       "      <td>Mild</td>\n",
       "      <td>Kolkata</td>\n",
       "      <td>No</td>\n",
       "    </tr>\n",
       "    <tr>\n",
       "      <th>1</th>\n",
       "      <td>27</td>\n",
       "      <td>Male</td>\n",
       "      <td>100.0</td>\n",
       "      <td>Mild</td>\n",
       "      <td>Delhi</td>\n",
       "      <td>Yes</td>\n",
       "    </tr>\n",
       "    <tr>\n",
       "      <th>2</th>\n",
       "      <td>42</td>\n",
       "      <td>Male</td>\n",
       "      <td>101.0</td>\n",
       "      <td>Mild</td>\n",
       "      <td>Delhi</td>\n",
       "      <td>No</td>\n",
       "    </tr>\n",
       "  </tbody>\n",
       "</table>\n",
       "</div>"
      ],
      "text/plain": [
       "   age gender  fever cough     city has_covid\n",
       "0   60   Male  103.0  Mild  Kolkata        No\n",
       "1   27   Male  100.0  Mild    Delhi       Yes\n",
       "2   42   Male  101.0  Mild    Delhi        No"
      ]
     },
     "execution_count": 3,
     "metadata": {},
     "output_type": "execute_result"
    }
   ],
   "source": [
    "df.head(3)"
   ]
  },
  {
   "cell_type": "markdown",
   "id": "cedcd65c",
   "metadata": {},
   "source": [
    "## colunm transformer"
   ]
  },
  {
   "cell_type": "code",
   "execution_count": null,
   "id": "1f08c8f9",
   "metadata": {},
   "outputs": [],
   "source": []
  },
  {
   "cell_type": "code",
   "execution_count": 4,
   "id": "080a246e",
   "metadata": {},
   "outputs": [
    {
     "data": {
      "text/plain": [
       "age           0\n",
       "gender        0\n",
       "fever        10\n",
       "cough         0\n",
       "city          0\n",
       "has_covid     0\n",
       "dtype: int64"
      ]
     },
     "execution_count": 4,
     "metadata": {},
     "output_type": "execute_result"
    }
   ],
   "source": [
    "df.isnull().sum()"
   ]
  },
  {
   "cell_type": "code",
   "execution_count": 5,
   "id": "ac9a2691",
   "metadata": {},
   "outputs": [],
   "source": [
    "from sklearn.model_selection import train_test_split"
   ]
  },
  {
   "cell_type": "code",
   "execution_count": 6,
   "id": "d189cb41",
   "metadata": {},
   "outputs": [],
   "source": [
    "x_train , x_test , y_train , y_test= train_test_split(df.drop(\n",
    "columns =['has_covid']),df['has_covid'],test_size= 0.2)\n"
   ]
  },
  {
   "cell_type": "code",
   "execution_count": null,
   "id": "4aba896c",
   "metadata": {},
   "outputs": [],
   "source": []
  },
  {
   "cell_type": "markdown",
   "id": "7d5f5954",
   "metadata": {},
   "source": [
    "## Manually type output"
   ]
  },
  {
   "cell_type": "code",
   "execution_count": 7,
   "id": "27bfe796",
   "metadata": {},
   "outputs": [],
   "source": [
    "from sklearn.impute import SimpleImputer"
   ]
  },
  {
   "cell_type": "code",
   "execution_count": 8,
   "id": "d5d7ebcc",
   "metadata": {
    "scrolled": true
   },
   "outputs": [
    {
     "data": {
      "text/plain": [
       "(80, 1)"
      ]
     },
     "execution_count": 8,
     "metadata": {},
     "output_type": "execute_result"
    }
   ],
   "source": [
    "si = SimpleImputer(strategy = 'mean')\n",
    "x_train_fever = si.fit_transform(x_train[['fever']])\n",
    "\n",
    "x_test_fever = si.fit_transform(x_test[['fever']])\n",
    "x_train_fever.shape"
   ]
  },
  {
   "cell_type": "code",
   "execution_count": null,
   "id": "6e610461",
   "metadata": {},
   "outputs": [],
   "source": []
  },
  {
   "cell_type": "code",
   "execution_count": 9,
   "id": "10cda88b",
   "metadata": {},
   "outputs": [],
   "source": [
    "from sklearn.preprocessing import OrdinalEncoder\n"
   ]
  },
  {
   "cell_type": "code",
   "execution_count": 10,
   "id": "1b0dd64e",
   "metadata": {},
   "outputs": [
    {
     "data": {
      "text/plain": [
       "(80, 1)"
      ]
     },
     "execution_count": 10,
     "metadata": {},
     "output_type": "execute_result"
    }
   ],
   "source": [
    "# Ordinal Encoding ---->cough\n",
    "\n",
    "oe=OrdinalEncoder(categories=[['Mild','Strong']])\n",
    "x_train_cough=oe.fit_transform(x_train[['cough']])\n",
    "\n",
    "#also test data\n",
    "x_test_cough=oe.fit_transform(x_test[['cough']])\n",
    "\n",
    "x_train_cough.shape"
   ]
  },
  {
   "cell_type": "code",
   "execution_count": 11,
   "id": "af98e742",
   "metadata": {},
   "outputs": [],
   "source": [
    "from sklearn.preprocessing import OneHotEncoder\n"
   ]
  },
  {
   "cell_type": "code",
   "execution_count": 12,
   "id": "906282a4",
   "metadata": {},
   "outputs": [
    {
     "data": {
      "text/plain": [
       "(80, 4)"
      ]
     },
     "execution_count": 12,
     "metadata": {},
     "output_type": "execute_result"
    }
   ],
   "source": [
    "\n",
    "# OneHotEncoding --> Gender, city\n",
    "ohe = OneHotEncoder (drop = 'first', sparse_output = False )\n",
    "x_train_gender_city= ohe.fit_transform(x_train [['gender', 'city']])\n",
    "\n",
    "# also the test data\n",
    "x_test_gender_city=ohe.fit_transform(x_test[['gender', 'city']])\n",
    "x_train_gender_city.shape\n"
   ]
  },
  {
   "cell_type": "code",
   "execution_count": 13,
   "id": "f0faab2a",
   "metadata": {},
   "outputs": [
    {
     "data": {
      "text/plain": [
       "(80, 1)"
      ]
     },
     "execution_count": 13,
     "metadata": {},
     "output_type": "execute_result"
    }
   ],
   "source": [
    "#Extracting Age\n",
    "x_train_age = x_train.drop(columns =\n",
    "['gender', 'fever', 'cough', 'city']).values\n",
    "# also the test data\n",
    "x_test_age= x_test.drop(columns=['gender', 'fever', 'cough', 'city']).values\n",
    "x_train_age.shape\n"
   ]
  },
  {
   "cell_type": "code",
   "execution_count": 14,
   "id": "504854be",
   "metadata": {},
   "outputs": [],
   "source": [
    "x_train_transformed =np.concatenate((x_train_age, x_train_fever,\n",
    "                                    x_train_gender_city,\n",
    "                                    x_train_cough), axis=1)"
   ]
  },
  {
   "cell_type": "code",
   "execution_count": 15,
   "id": "fad9c410",
   "metadata": {},
   "outputs": [
    {
     "data": {
      "text/plain": [
       "(80, 7)"
      ]
     },
     "execution_count": 15,
     "metadata": {},
     "output_type": "execute_result"
    }
   ],
   "source": [
    "x_train_transformed.shape"
   ]
  },
  {
   "cell_type": "markdown",
   "id": "e40b5382",
   "metadata": {},
   "source": [
    "## by the help of column transformer"
   ]
  },
  {
   "cell_type": "code",
   "execution_count": 16,
   "id": "22378b12",
   "metadata": {},
   "outputs": [],
   "source": [
    "\n",
    "from sklearn.compose import ColumnTransformer\n",
    "transformer= ColumnTransformer (transformers=[\n",
    "#\n",
    "#\n",
    "# this is how to import Column Transformer\n",
    "('tnf1', SimpleImputer(), ['fever']), # in a 'fever'column by the help of SI we\n",
    "# fill missing values by mean, median mode.\n",
    "\n",
    "('tnf2', OrdinalEncoder(categories = [['Mild', 'Strong']]), ['cough']), #by this process\n",
    "# we encode our data.\n",
    "('tnf3', OneHotEncoder(sparse_output=False, drop='first'), ['gender', 'city']) ],\n",
    "                                remainder='passthrough')\n",
    "# remainder = passthrough ==>\n",
    "#it means rest all the columns remain some"
   ]
  },
  {
   "cell_type": "code",
   "execution_count": 17,
   "id": "5fd00d00",
   "metadata": {},
   "outputs": [
    {
     "data": {
      "text/plain": [
       "(80, 7)"
      ]
     },
     "execution_count": 17,
     "metadata": {},
     "output_type": "execute_result"
    }
   ],
   "source": [
    "transformer.fit_transform(x_train).shape"
   ]
  },
  {
   "cell_type": "code",
   "execution_count": 18,
   "id": "6316f3ec",
   "metadata": {},
   "outputs": [
    {
     "data": {
      "text/plain": [
       "(20, 7)"
      ]
     },
     "execution_count": 18,
     "metadata": {},
     "output_type": "execute_result"
    }
   ],
   "source": [
    "transformer.transform(x_test).shape"
   ]
  },
  {
   "cell_type": "code",
   "execution_count": null,
   "id": "ec0e1526",
   "metadata": {},
   "outputs": [],
   "source": []
  },
  {
   "cell_type": "code",
   "execution_count": null,
   "id": "f82a46d2",
   "metadata": {},
   "outputs": [],
   "source": []
  },
  {
   "cell_type": "markdown",
   "id": "a75d2dc5",
   "metadata": {},
   "source": [
    "## The Function Transformer is a tool in scikit-learn, a popular Python library for machine learning, that allows you to apply a specified function to the input data. The Function Transformer can be useful for performing custom transformations of input data in a machine learning pipeline.\n"
   ]
  },
  {
   "cell_type": "raw",
   "id": "fd424a70",
   "metadata": {},
   "source": [
    "The Function Transformer takes as input a single function that will be applied to each sample in the data. This function can be any Python function that takes a single argument, such as a lambda function or a user-defined function. The function should return the transformed sample."
   ]
  },
  {
   "cell_type": "code",
   "execution_count": 20,
   "id": "14eb0221",
   "metadata": {},
   "outputs": [
    {
     "name": "stdout",
     "output_type": "stream",
     "text": [
      "[[0.69314718 1.09861229]\n",
      " [1.38629436 1.60943791]]\n"
     ]
    }
   ],
   "source": [
    "from math import log\n",
    "from sklearn.preprocessing import FunctionTransformer\n",
    "\n",
    "#create a dataset\n",
    "x=np.array([[1,2],[3,4]])\n",
    "\n",
    "#define the transformation function\n",
    "log_transform = FunctionTransformer(np.log1p)\n",
    "\n",
    "#apply the transformation to the dataset\n",
    "x_transformed= log_transform.transform(x)\n",
    "\n",
    "#print the transformed dataset\n",
    "print(x_transformed)"
   ]
  },
  {
   "cell_type": "code",
   "execution_count": 22,
   "id": "9b1b09b7",
   "metadata": {},
   "outputs": [
    {
     "name": "stdout",
     "output_type": "stream",
     "text": [
      "[[ 1  2  1  4]\n",
      " [ 3  4  9 16]]\n"
     ]
    }
   ],
   "source": [
    "from sklearn.preprocessing import FunctionTransformer\n",
    "\n",
    "#create a dataset\n",
    "x=np.array([[1,2],[3,4]])\n",
    "\n",
    "#define the custome feature engineering function\n",
    "def asd(x):\n",
    "    return np.hstack((x,x**2))\n",
    "\n",
    "# create a function transformer to apply custom function\n",
    "custom_transformer =FunctionTransformer(asd)\n",
    "\n",
    "\n",
    "#apply the transformation to the dataset\n",
    "x_transformed= custom_transformer.transform(x)\n",
    "\n",
    "#print the transformed dataset\n",
    "print(x_transformed)"
   ]
  },
  {
   "cell_type": "code",
   "execution_count": null,
   "id": "316b27ea",
   "metadata": {},
   "outputs": [],
   "source": []
  },
  {
   "cell_type": "code",
   "execution_count": 24,
   "id": "5bd5e305",
   "metadata": {},
   "outputs": [
    {
     "name": "stdout",
     "output_type": "stream",
     "text": [
      "[[0.25 0.5 ]\n",
      " [0.75 1.  ]]\n"
     ]
    }
   ],
   "source": [
    "from sklearn.preprocessing import FunctionTransformer\n",
    "\n",
    "#create a dataset\n",
    "x=np.array([[1,2],[3,4]])\n",
    "\n",
    "#define the custome feature engineering function\n",
    "def my_scaling(x):\n",
    "    return x/ np.max(x)\n",
    "\n",
    "# create a function transformer to apply custom function\n",
    "custom_transformer =FunctionTransformer(my_scaling)\n",
    "\n",
    "\n",
    "#apply the transformation to the dataset\n",
    "x_transformed= custom_transformer.transform(x)\n",
    "\n",
    "#print the transformed dataset\n",
    "print(x_transformed)"
   ]
  },
  {
   "cell_type": "code",
   "execution_count": 26,
   "id": "30afada4",
   "metadata": {},
   "outputs": [
    {
     "name": "stdout",
     "output_type": "stream",
     "text": [
      "[[1. 2.]\n",
      " [3. 0.]]\n"
     ]
    }
   ],
   "source": [
    "from sklearn.preprocessing import FunctionTransformer\n",
    "\n",
    "#create a dataset\n",
    "x=np.array([[1,2],[3,np.nan]])\n",
    "\n",
    "#define the custome feature engineering function\n",
    "def my_cleaning(x):\n",
    "    \n",
    "    x[np.isnan(x)]=0\n",
    "    return x\n",
    "\n",
    "# create a function transformer to apply custom function\n",
    "custom_transformer =FunctionTransformer(my_cleaning)\n",
    "\n",
    "\n",
    "#apply the transformation to the dataset\n",
    "x_transformed= custom_transformer.transform(x)\n",
    "\n",
    "#print the transformed dataset\n",
    "print(x_transformed)"
   ]
  },
  {
   "cell_type": "code",
   "execution_count": null,
   "id": "2f031f26",
   "metadata": {},
   "outputs": [],
   "source": []
  },
  {
   "cell_type": "code",
   "execution_count": null,
   "id": "d2606801",
   "metadata": {},
   "outputs": [],
   "source": [
    "df=pd.read_csv('C:\\\\Users\\\\asd\\\\Downloads\\\\placement.csv')"
   ]
  },
  {
   "cell_type": "code",
   "execution_count": null,
   "id": "66510e01",
   "metadata": {},
   "outputs": [],
   "source": [
    "df.head(3)"
   ]
  },
  {
   "cell_type": "code",
   "execution_count": null,
   "id": "89fbb425",
   "metadata": {},
   "outputs": [],
   "source": [
    "x= df.drop(columns= ['placed'])\n",
    "y= df['placed']"
   ]
  },
  {
   "cell_type": "code",
   "execution_count": null,
   "id": "7c62cf22",
   "metadata": {},
   "outputs": [],
   "source": [
    "from sklearn.preprocessing import FunctionTransformer"
   ]
  },
  {
   "cell_type": "code",
   "execution_count": null,
   "id": "d28993dd",
   "metadata": {},
   "outputs": [],
   "source": [
    "log_transform = FunctionTransformer(np.log1p)\n",
    "\n",
    "#apply the transformation to the dataset\n",
    "x_transformed = log_transform.transform(x)"
   ]
  },
  {
   "cell_type": "code",
   "execution_count": null,
   "id": "90870390",
   "metadata": {},
   "outputs": [],
   "source": []
  }
 ],
 "metadata": {
  "kernelspec": {
   "display_name": "Python 3 (ipykernel)",
   "language": "python",
   "name": "python3"
  },
  "language_info": {
   "codemirror_mode": {
    "name": "ipython",
    "version": 3
   },
   "file_extension": ".py",
   "mimetype": "text/x-python",
   "name": "python",
   "nbconvert_exporter": "python",
   "pygments_lexer": "ipython3",
   "version": "3.10.9"
  }
 },
 "nbformat": 4,
 "nbformat_minor": 5
}
