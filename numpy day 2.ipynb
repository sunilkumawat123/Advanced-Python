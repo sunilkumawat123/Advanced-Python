{
 "cells": [
  {
   "cell_type": "code",
   "execution_count": 1,
   "id": "b6a30a5a",
   "metadata": {},
   "outputs": [],
   "source": [
    "import numpy as np"
   ]
  },
  {
   "cell_type": "markdown",
   "id": "251f191a",
   "metadata": {},
   "source": [
    "## view vs copy"
   ]
  },
  {
   "cell_type": "code",
   "execution_count": 2,
   "id": "970368c5",
   "metadata": {},
   "outputs": [
    {
     "data": {
      "text/plain": [
       "array([10, 20,  0,  0,  0, 60, 70, 80])"
      ]
     },
     "execution_count": 2,
     "metadata": {},
     "output_type": "execute_result"
    }
   ],
   "source": [
    "a=np.array([10,20,30,40,50,60,70,80])   ## view means modification in orignal data\n",
    "b=a[2:5]\n",
    "b[:]=0\n",
    "a"
   ]
  },
  {
   "cell_type": "code",
   "execution_count": 3,
   "id": "1c4a5fa6",
   "metadata": {},
   "outputs": [
    {
     "data": {
      "text/plain": [
       "array([10, 20, 30, 40, 50, 60, 70, 80])"
      ]
     },
     "execution_count": 3,
     "metadata": {},
     "output_type": "execute_result"
    }
   ],
   "source": [
    "a=np.array([10,20,30,40,50,60,70,80])   ## copy() means modification in duplicate file\n",
    "b=a[2:5].copy()\n",
    "b[:]=0\n",
    "a"
   ]
  },
  {
   "cell_type": "markdown",
   "id": "7ce11b9e",
   "metadata": {},
   "source": [
    "## Reshaping the data"
   ]
  },
  {
   "cell_type": "code",
   "execution_count": 4,
   "id": "263195a8",
   "metadata": {},
   "outputs": [],
   "source": [
    "# # we know that \n",
    "# n(rows)*n(column)= n(total_elements)\n",
    "# if we have total element =12\n",
    "# 1*12,12*1\n",
    "# 2*6,6*2\n",
    "# 3*4,4*3\n",
    "\n"
   ]
  },
  {
   "cell_type": "code",
   "execution_count": 5,
   "id": "7b6cd6a4",
   "metadata": {},
   "outputs": [
    {
     "data": {
      "text/plain": [
       "array([46, 20, 35, 36, 13,  6, 10,  1,  9, 48,  1,  9])"
      ]
     },
     "execution_count": 5,
     "metadata": {},
     "output_type": "execute_result"
    }
   ],
   "source": [
    "a=np.random.randint(1,50,12)\n",
    "a"
   ]
  },
  {
   "cell_type": "code",
   "execution_count": 6,
   "id": "409cfeab",
   "metadata": {},
   "outputs": [
    {
     "data": {
      "text/plain": [
       "array([[46, 20],\n",
       "       [35, 36],\n",
       "       [13,  6],\n",
       "       [10,  1],\n",
       "       [ 9, 48],\n",
       "       [ 1,  9]])"
      ]
     },
     "execution_count": 6,
     "metadata": {},
     "output_type": "execute_result"
    }
   ],
   "source": [
    "a.reshape(6,2)"
   ]
  },
  {
   "cell_type": "code",
   "execution_count": 7,
   "id": "4bf1e9ae",
   "metadata": {},
   "outputs": [
    {
     "data": {
      "text/plain": [
       "array([[46, 20, 35, 36, 13,  6],\n",
       "       [10,  1,  9, 48,  1,  9]])"
      ]
     },
     "execution_count": 7,
     "metadata": {},
     "output_type": "execute_result"
    }
   ],
   "source": [
    "a.reshape(2,6)"
   ]
  },
  {
   "cell_type": "code",
   "execution_count": 8,
   "id": "1482354f",
   "metadata": {},
   "outputs": [
    {
     "data": {
      "text/plain": [
       "array([[46, 20, 35],\n",
       "       [36, 13,  6],\n",
       "       [10,  1,  9],\n",
       "       [48,  1,  9]])"
      ]
     },
     "execution_count": 8,
     "metadata": {},
     "output_type": "execute_result"
    }
   ],
   "source": [
    "a.reshape(4,3)"
   ]
  },
  {
   "cell_type": "code",
   "execution_count": 9,
   "id": "83952bcd",
   "metadata": {},
   "outputs": [
    {
     "data": {
      "text/plain": [
       "array([[46, 20, 35, 36],\n",
       "       [13,  6, 10,  1],\n",
       "       [ 9, 48,  1,  9]])"
      ]
     },
     "execution_count": 9,
     "metadata": {},
     "output_type": "execute_result"
    }
   ],
   "source": [
    "a.reshape(3,4)"
   ]
  },
  {
   "cell_type": "code",
   "execution_count": 10,
   "id": "0fcc0155",
   "metadata": {},
   "outputs": [
    {
     "data": {
      "text/plain": [
       "array([62, 97, 44, 38, 86, 93, 82, 47, 44, 46, 14, 68, 26, 38,  1, 63, 50,\n",
       "       34, 26,  4, 11, 79, 84, 91, 25, 69, 22, 24, 73, 78,  5,  1, 98, 11,\n",
       "       98, 68, 20, 97, 44, 61, 94, 58, 70, 79, 54, 27, 51, 36, 54, 16, 86,\n",
       "       80, 70, 70, 26, 25, 14, 69, 77, 87, 15, 36, 31, 89, 16, 57, 71, 42,\n",
       "       55, 63,  9, 53])"
      ]
     },
     "execution_count": 10,
     "metadata": {},
     "output_type": "execute_result"
    }
   ],
   "source": [
    "a=np.random.randint(1,100,72)\n",
    "a"
   ]
  },
  {
   "cell_type": "code",
   "execution_count": 11,
   "id": "211c8461",
   "metadata": {},
   "outputs": [
    {
     "data": {
      "text/plain": [
       "array([[62, 97, 44, 38, 86, 93, 82, 47, 44, 46, 14, 68, 26, 38,  1, 63,\n",
       "        50, 34, 26,  4, 11, 79, 84, 91, 25, 69, 22, 24, 73, 78,  5,  1,\n",
       "        98, 11, 98, 68, 20, 97, 44, 61, 94, 58, 70, 79, 54, 27, 51, 36,\n",
       "        54, 16, 86, 80, 70, 70, 26, 25, 14, 69, 77, 87, 15, 36, 31, 89,\n",
       "        16, 57, 71, 42, 55, 63,  9, 53]])"
      ]
     },
     "execution_count": 11,
     "metadata": {},
     "output_type": "execute_result"
    }
   ],
   "source": [
    "a.reshape(1,72)"
   ]
  },
  {
   "cell_type": "code",
   "execution_count": 13,
   "id": "ef3d41ec",
   "metadata": {
    "scrolled": true
   },
   "outputs": [
    {
     "data": {
      "text/plain": [
       "array([[62],\n",
       "       [97],\n",
       "       [44],\n",
       "       [38],\n",
       "       [86],\n",
       "       [93],\n",
       "       [82],\n",
       "       [47],\n",
       "       [44],\n",
       "       [46],\n",
       "       [14],\n",
       "       [68],\n",
       "       [26],\n",
       "       [38],\n",
       "       [ 1],\n",
       "       [63],\n",
       "       [50],\n",
       "       [34],\n",
       "       [26],\n",
       "       [ 4],\n",
       "       [11],\n",
       "       [79],\n",
       "       [84],\n",
       "       [91],\n",
       "       [25],\n",
       "       [69],\n",
       "       [22],\n",
       "       [24],\n",
       "       [73],\n",
       "       [78],\n",
       "       [ 5],\n",
       "       [ 1],\n",
       "       [98],\n",
       "       [11],\n",
       "       [98],\n",
       "       [68],\n",
       "       [20],\n",
       "       [97],\n",
       "       [44],\n",
       "       [61],\n",
       "       [94],\n",
       "       [58],\n",
       "       [70],\n",
       "       [79],\n",
       "       [54],\n",
       "       [27],\n",
       "       [51],\n",
       "       [36],\n",
       "       [54],\n",
       "       [16],\n",
       "       [86],\n",
       "       [80],\n",
       "       [70],\n",
       "       [70],\n",
       "       [26],\n",
       "       [25],\n",
       "       [14],\n",
       "       [69],\n",
       "       [77],\n",
       "       [87],\n",
       "       [15],\n",
       "       [36],\n",
       "       [31],\n",
       "       [89],\n",
       "       [16],\n",
       "       [57],\n",
       "       [71],\n",
       "       [42],\n",
       "       [55],\n",
       "       [63],\n",
       "       [ 9],\n",
       "       [53]])"
      ]
     },
     "execution_count": 13,
     "metadata": {},
     "output_type": "execute_result"
    }
   ],
   "source": [
    "a.reshape(72,1)"
   ]
  },
  {
   "cell_type": "code",
   "execution_count": 14,
   "id": "226734ae",
   "metadata": {},
   "outputs": [
    {
     "data": {
      "text/plain": [
       "array([[62, 97, 44, 38, 86, 93, 82, 47, 44, 46, 14, 68, 26, 38,  1, 63,\n",
       "        50, 34, 26,  4, 11, 79, 84, 91, 25, 69, 22, 24, 73, 78,  5,  1,\n",
       "        98, 11, 98, 68],\n",
       "       [20, 97, 44, 61, 94, 58, 70, 79, 54, 27, 51, 36, 54, 16, 86, 80,\n",
       "        70, 70, 26, 25, 14, 69, 77, 87, 15, 36, 31, 89, 16, 57, 71, 42,\n",
       "        55, 63,  9, 53]])"
      ]
     },
     "execution_count": 14,
     "metadata": {},
     "output_type": "execute_result"
    }
   ],
   "source": [
    "a.reshape(2,36)"
   ]
  },
  {
   "cell_type": "code",
   "execution_count": 15,
   "id": "c3fa86c7",
   "metadata": {
    "scrolled": true
   },
   "outputs": [
    {
     "data": {
      "text/plain": [
       "array([[62, 97],\n",
       "       [44, 38],\n",
       "       [86, 93],\n",
       "       [82, 47],\n",
       "       [44, 46],\n",
       "       [14, 68],\n",
       "       [26, 38],\n",
       "       [ 1, 63],\n",
       "       [50, 34],\n",
       "       [26,  4],\n",
       "       [11, 79],\n",
       "       [84, 91],\n",
       "       [25, 69],\n",
       "       [22, 24],\n",
       "       [73, 78],\n",
       "       [ 5,  1],\n",
       "       [98, 11],\n",
       "       [98, 68],\n",
       "       [20, 97],\n",
       "       [44, 61],\n",
       "       [94, 58],\n",
       "       [70, 79],\n",
       "       [54, 27],\n",
       "       [51, 36],\n",
       "       [54, 16],\n",
       "       [86, 80],\n",
       "       [70, 70],\n",
       "       [26, 25],\n",
       "       [14, 69],\n",
       "       [77, 87],\n",
       "       [15, 36],\n",
       "       [31, 89],\n",
       "       [16, 57],\n",
       "       [71, 42],\n",
       "       [55, 63],\n",
       "       [ 9, 53]])"
      ]
     },
     "execution_count": 15,
     "metadata": {},
     "output_type": "execute_result"
    }
   ],
   "source": [
    "a.reshape(36,2)"
   ]
  },
  {
   "cell_type": "code",
   "execution_count": 16,
   "id": "4619cc98",
   "metadata": {},
   "outputs": [
    {
     "data": {
      "text/plain": [
       "array([[62, 97, 44, 38, 86, 93, 82, 47, 44, 46, 14, 68, 26, 38,  1, 63,\n",
       "        50, 34, 26,  4, 11, 79, 84, 91],\n",
       "       [25, 69, 22, 24, 73, 78,  5,  1, 98, 11, 98, 68, 20, 97, 44, 61,\n",
       "        94, 58, 70, 79, 54, 27, 51, 36],\n",
       "       [54, 16, 86, 80, 70, 70, 26, 25, 14, 69, 77, 87, 15, 36, 31, 89,\n",
       "        16, 57, 71, 42, 55, 63,  9, 53]])"
      ]
     },
     "execution_count": 16,
     "metadata": {},
     "output_type": "execute_result"
    }
   ],
   "source": [
    "a.reshape(3,24)"
   ]
  },
  {
   "cell_type": "code",
   "execution_count": 17,
   "id": "1ffc91dd",
   "metadata": {
    "scrolled": true
   },
   "outputs": [
    {
     "data": {
      "text/plain": [
       "array([[62, 97, 44],\n",
       "       [38, 86, 93],\n",
       "       [82, 47, 44],\n",
       "       [46, 14, 68],\n",
       "       [26, 38,  1],\n",
       "       [63, 50, 34],\n",
       "       [26,  4, 11],\n",
       "       [79, 84, 91],\n",
       "       [25, 69, 22],\n",
       "       [24, 73, 78],\n",
       "       [ 5,  1, 98],\n",
       "       [11, 98, 68],\n",
       "       [20, 97, 44],\n",
       "       [61, 94, 58],\n",
       "       [70, 79, 54],\n",
       "       [27, 51, 36],\n",
       "       [54, 16, 86],\n",
       "       [80, 70, 70],\n",
       "       [26, 25, 14],\n",
       "       [69, 77, 87],\n",
       "       [15, 36, 31],\n",
       "       [89, 16, 57],\n",
       "       [71, 42, 55],\n",
       "       [63,  9, 53]])"
      ]
     },
     "execution_count": 17,
     "metadata": {},
     "output_type": "execute_result"
    }
   ],
   "source": [
    "a.reshape(24,3)"
   ]
  },
  {
   "cell_type": "code",
   "execution_count": 19,
   "id": "5a776207",
   "metadata": {},
   "outputs": [
    {
     "data": {
      "text/plain": [
       "array([[62, 97, 44, 38, 86, 93, 82, 47, 44, 46, 14, 68, 26, 38,  1, 63,\n",
       "        50, 34],\n",
       "       [26,  4, 11, 79, 84, 91, 25, 69, 22, 24, 73, 78,  5,  1, 98, 11,\n",
       "        98, 68],\n",
       "       [20, 97, 44, 61, 94, 58, 70, 79, 54, 27, 51, 36, 54, 16, 86, 80,\n",
       "        70, 70],\n",
       "       [26, 25, 14, 69, 77, 87, 15, 36, 31, 89, 16, 57, 71, 42, 55, 63,\n",
       "         9, 53]])"
      ]
     },
     "execution_count": 19,
     "metadata": {},
     "output_type": "execute_result"
    }
   ],
   "source": [
    "a.reshape(4,18)"
   ]
  },
  {
   "cell_type": "code",
   "execution_count": 20,
   "id": "debf5cb0",
   "metadata": {
    "scrolled": true
   },
   "outputs": [
    {
     "data": {
      "text/plain": [
       "array([[62, 97, 44, 38],\n",
       "       [86, 93, 82, 47],\n",
       "       [44, 46, 14, 68],\n",
       "       [26, 38,  1, 63],\n",
       "       [50, 34, 26,  4],\n",
       "       [11, 79, 84, 91],\n",
       "       [25, 69, 22, 24],\n",
       "       [73, 78,  5,  1],\n",
       "       [98, 11, 98, 68],\n",
       "       [20, 97, 44, 61],\n",
       "       [94, 58, 70, 79],\n",
       "       [54, 27, 51, 36],\n",
       "       [54, 16, 86, 80],\n",
       "       [70, 70, 26, 25],\n",
       "       [14, 69, 77, 87],\n",
       "       [15, 36, 31, 89],\n",
       "       [16, 57, 71, 42],\n",
       "       [55, 63,  9, 53]])"
      ]
     },
     "execution_count": 20,
     "metadata": {},
     "output_type": "execute_result"
    }
   ],
   "source": [
    "a.reshape(18,4)"
   ]
  },
  {
   "cell_type": "code",
   "execution_count": 21,
   "id": "c0f93a46",
   "metadata": {},
   "outputs": [
    {
     "data": {
      "text/plain": [
       "array([[62, 97, 44, 38, 86, 93, 82, 47, 44, 46, 14, 68],\n",
       "       [26, 38,  1, 63, 50, 34, 26,  4, 11, 79, 84, 91],\n",
       "       [25, 69, 22, 24, 73, 78,  5,  1, 98, 11, 98, 68],\n",
       "       [20, 97, 44, 61, 94, 58, 70, 79, 54, 27, 51, 36],\n",
       "       [54, 16, 86, 80, 70, 70, 26, 25, 14, 69, 77, 87],\n",
       "       [15, 36, 31, 89, 16, 57, 71, 42, 55, 63,  9, 53]])"
      ]
     },
     "execution_count": 21,
     "metadata": {},
     "output_type": "execute_result"
    }
   ],
   "source": [
    "a.reshape(6,12)"
   ]
  },
  {
   "cell_type": "code",
   "execution_count": 22,
   "id": "c784b592",
   "metadata": {},
   "outputs": [
    {
     "data": {
      "text/plain": [
       "array([[62, 97, 44, 38, 86, 93],\n",
       "       [82, 47, 44, 46, 14, 68],\n",
       "       [26, 38,  1, 63, 50, 34],\n",
       "       [26,  4, 11, 79, 84, 91],\n",
       "       [25, 69, 22, 24, 73, 78],\n",
       "       [ 5,  1, 98, 11, 98, 68],\n",
       "       [20, 97, 44, 61, 94, 58],\n",
       "       [70, 79, 54, 27, 51, 36],\n",
       "       [54, 16, 86, 80, 70, 70],\n",
       "       [26, 25, 14, 69, 77, 87],\n",
       "       [15, 36, 31, 89, 16, 57],\n",
       "       [71, 42, 55, 63,  9, 53]])"
      ]
     },
     "execution_count": 22,
     "metadata": {},
     "output_type": "execute_result"
    }
   ],
   "source": [
    "a.reshape(12,6)"
   ]
  },
  {
   "cell_type": "markdown",
   "id": "86083018",
   "metadata": {},
   "source": [
    "## conditional selection in Numpy"
   ]
  },
  {
   "cell_type": "code",
   "execution_count": 24,
   "id": "dc409757",
   "metadata": {},
   "outputs": [
    {
     "data": {
      "text/plain": [
       "array([ 1,  2,  3,  4,  5,  6,  7,  8,  9, 10, 11, 12, 13, 14, 15])"
      ]
     },
     "execution_count": 24,
     "metadata": {},
     "output_type": "execute_result"
    }
   ],
   "source": [
    "a=np.arange(1,16)\n",
    "a"
   ]
  },
  {
   "cell_type": "code",
   "execution_count": 25,
   "id": "c9698a0a",
   "metadata": {},
   "outputs": [
    {
     "data": {
      "text/plain": [
       "array([False, False, False, False, False, False, False, False, False,\n",
       "       False, False, False,  True,  True,  True])"
      ]
     },
     "execution_count": 25,
     "metadata": {},
     "output_type": "execute_result"
    }
   ],
   "source": [
    "a>12"
   ]
  },
  {
   "cell_type": "code",
   "execution_count": 26,
   "id": "23ee6f01",
   "metadata": {},
   "outputs": [
    {
     "data": {
      "text/plain": [
       "array([ True,  True,  True,  True,  True,  True,  True,  True,  True,\n",
       "        True,  True, False, False, False, False])"
      ]
     },
     "execution_count": 26,
     "metadata": {},
     "output_type": "execute_result"
    }
   ],
   "source": [
    "a<12"
   ]
  },
  {
   "cell_type": "code",
   "execution_count": 28,
   "id": "fbddaa9d",
   "metadata": {},
   "outputs": [
    {
     "data": {
      "text/plain": [
       "array([13, 14, 15])"
      ]
     },
     "execution_count": 28,
     "metadata": {},
     "output_type": "execute_result"
    }
   ],
   "source": [
    "b=a>12\n",
    "a[b]"
   ]
  },
  {
   "cell_type": "code",
   "execution_count": 30,
   "id": "9db657b7",
   "metadata": {},
   "outputs": [
    {
     "data": {
      "text/plain": [
       "array([ 1,  2,  3,  4,  5,  6,  7,  8,  9, 10, 11])"
      ]
     },
     "execution_count": 30,
     "metadata": {},
     "output_type": "execute_result"
    }
   ],
   "source": [
    "c=a<12\n",
    "a[c]"
   ]
  },
  {
   "cell_type": "code",
   "execution_count": 31,
   "id": "36fa0d14",
   "metadata": {},
   "outputs": [
    {
     "data": {
      "text/plain": [
       "array([ 2,  4,  6,  8, 10, 12, 14])"
      ]
     },
     "execution_count": 31,
     "metadata": {},
     "output_type": "execute_result"
    }
   ],
   "source": [
    "a[a%2==0]"
   ]
  },
  {
   "cell_type": "code",
   "execution_count": 32,
   "id": "bf364e66",
   "metadata": {},
   "outputs": [
    {
     "data": {
      "text/plain": [
       "array([ 1,  3,  5,  7,  9, 11, 13, 15])"
      ]
     },
     "execution_count": 32,
     "metadata": {},
     "output_type": "execute_result"
    }
   ],
   "source": [
    "a[a%2!=0]"
   ]
  },
  {
   "cell_type": "code",
   "execution_count": 33,
   "id": "f2e599c4",
   "metadata": {},
   "outputs": [
    {
     "data": {
      "text/plain": [
       "array([[1, 2],\n",
       "       [3, 4]])"
      ]
     },
     "execution_count": 33,
     "metadata": {},
     "output_type": "execute_result"
    }
   ],
   "source": [
    "a=np.arange(1,5).reshape(2,2)\n",
    "a"
   ]
  },
  {
   "cell_type": "code",
   "execution_count": 34,
   "id": "81b116b8",
   "metadata": {},
   "outputs": [
    {
     "data": {
      "text/plain": [
       "array([[5, 6],\n",
       "       [7, 8]])"
      ]
     },
     "execution_count": 34,
     "metadata": {},
     "output_type": "execute_result"
    }
   ],
   "source": [
    "b=np.arange(5,9).reshape(2,2)\n",
    "b"
   ]
  },
  {
   "cell_type": "code",
   "execution_count": 35,
   "id": "bbd4eca7",
   "metadata": {},
   "outputs": [
    {
     "data": {
      "text/plain": [
       "array([[ 6,  8],\n",
       "       [10, 12]])"
      ]
     },
     "execution_count": 35,
     "metadata": {},
     "output_type": "execute_result"
    }
   ],
   "source": [
    "a+b"
   ]
  },
  {
   "cell_type": "code",
   "execution_count": 36,
   "id": "bb728a13",
   "metadata": {},
   "outputs": [
    {
     "data": {
      "text/plain": [
       "array([[-4, -4],\n",
       "       [-4, -4]])"
      ]
     },
     "execution_count": 36,
     "metadata": {},
     "output_type": "execute_result"
    }
   ],
   "source": [
    "a-b"
   ]
  },
  {
   "cell_type": "code",
   "execution_count": 38,
   "id": "ed8da22f",
   "metadata": {},
   "outputs": [
    {
     "data": {
      "text/plain": [
       "array([[ 5, 12],\n",
       "       [21, 32]])"
      ]
     },
     "execution_count": 38,
     "metadata": {},
     "output_type": "execute_result"
    }
   ],
   "source": [
    "a*b   ## wrong method"
   ]
  },
  {
   "cell_type": "code",
   "execution_count": 39,
   "id": "48e9698d",
   "metadata": {},
   "outputs": [
    {
     "data": {
      "text/plain": [
       "array([[19, 22],\n",
       "       [43, 50]])"
      ]
     },
     "execution_count": 39,
     "metadata": {},
     "output_type": "execute_result"
    }
   ],
   "source": [
    "a.dot(b) #right "
   ]
  },
  {
   "cell_type": "code",
   "execution_count": null,
   "id": "d5808ec8",
   "metadata": {},
   "outputs": [],
   "source": []
  },
  {
   "cell_type": "code",
   "execution_count": 41,
   "id": "afad7eca",
   "metadata": {},
   "outputs": [
    {
     "data": {
      "text/plain": [
       "array([[1, 2, 3],\n",
       "       [4, 5, 6],\n",
       "       [7, 8, 9]])"
      ]
     },
     "execution_count": 41,
     "metadata": {},
     "output_type": "execute_result"
    }
   ],
   "source": [
    "a=np.arange(1,10).reshape(3,3)\n",
    "a"
   ]
  },
  {
   "cell_type": "code",
   "execution_count": 42,
   "id": "7c07369b",
   "metadata": {},
   "outputs": [
    {
     "data": {
      "text/plain": [
       "45"
      ]
     },
     "execution_count": 42,
     "metadata": {},
     "output_type": "execute_result"
    }
   ],
   "source": [
    "np.sum(a)"
   ]
  },
  {
   "cell_type": "code",
   "execution_count": 43,
   "id": "c4608ce4",
   "metadata": {},
   "outputs": [
    {
     "data": {
      "text/plain": [
       "array([ 6, 15, 24])"
      ]
     },
     "execution_count": 43,
     "metadata": {},
     "output_type": "execute_result"
    }
   ],
   "source": [
    "np.sum(a,axis=1) ## Row wise sum"
   ]
  },
  {
   "cell_type": "code",
   "execution_count": 45,
   "id": "7a4403d2",
   "metadata": {},
   "outputs": [
    {
     "data": {
      "text/plain": [
       "array([12, 15, 18])"
      ]
     },
     "execution_count": 45,
     "metadata": {},
     "output_type": "execute_result"
    }
   ],
   "source": [
    "np.sum(a,axis=0)  ## column wise sum"
   ]
  },
  {
   "cell_type": "code",
   "execution_count": 46,
   "id": "a7dd7582",
   "metadata": {},
   "outputs": [],
   "source": [
    "# unique() ===> it will return unique values or eliminate duplicate values\n",
    "# it will return three array\n",
    "# 1. unique values array\n",
    "# 2. indexing of orignal value\n",
    "# 3. returns frequency of each unique value"
   ]
  },
  {
   "cell_type": "code",
   "execution_count": 47,
   "id": "5fa7f9cc",
   "metadata": {},
   "outputs": [
    {
     "data": {
      "text/plain": [
       "array([1, 2, 3, 2, 1, 3, 4, 5, 6, 4, 3, 2, 2, 2])"
      ]
     },
     "execution_count": 47,
     "metadata": {},
     "output_type": "execute_result"
    }
   ],
   "source": [
    "a=np.array([1,2,3,2,1,3,4,5,6,4,3,2,2,2])\n",
    "a"
   ]
  },
  {
   "cell_type": "code",
   "execution_count": 54,
   "id": "470d63bd",
   "metadata": {},
   "outputs": [
    {
     "data": {
      "text/plain": [
       "(array([1, 2, 3, 4, 5, 6]),\n",
       " array([0, 1, 2, 6, 7, 8], dtype=int64),\n",
       " array([2, 5, 3, 2, 1, 1], dtype=int64))"
      ]
     },
     "execution_count": 54,
     "metadata": {},
     "output_type": "execute_result"
    }
   ],
   "source": [
    "np.unique(a, return_index=True,return_counts= True)"
   ]
  },
  {
   "cell_type": "code",
   "execution_count": 55,
   "id": "d4b0ea29",
   "metadata": {},
   "outputs": [],
   "source": [
    "# Linspace() ===> It will create an array in which difference of each  value will be equal\n"
   ]
  },
  {
   "cell_type": "code",
   "execution_count": 56,
   "id": "9d45c854",
   "metadata": {},
   "outputs": [
    {
     "data": {
      "text/plain": [
       "array([1.  , 1.25, 1.5 , 1.75, 2.  ])"
      ]
     },
     "execution_count": 56,
     "metadata": {},
     "output_type": "execute_result"
    }
   ],
   "source": [
    "a=np.linspace(1,2,5)\n",
    "a"
   ]
  },
  {
   "cell_type": "markdown",
   "id": "8f4ff212",
   "metadata": {},
   "source": [
    "## stacking in numpy\n"
   ]
  },
  {
   "cell_type": "code",
   "execution_count": 57,
   "id": "279466c0",
   "metadata": {},
   "outputs": [],
   "source": [
    "# stacking in numpy\n",
    "# 1. hstack()===> It will combined multiple arrays into horizontally\n"
   ]
  },
  {
   "cell_type": "code",
   "execution_count": 58,
   "id": "2667cf39",
   "metadata": {},
   "outputs": [],
   "source": [
    "a=np.arange(1,5)\n",
    "b=np.arange(5,9)\n",
    "c=np.arange(9,13)"
   ]
  },
  {
   "cell_type": "code",
   "execution_count": 60,
   "id": "e3bbdfa9",
   "metadata": {},
   "outputs": [
    {
     "data": {
      "text/plain": [
       "array([ 1,  2,  3,  4,  5,  6,  7,  8,  9, 10, 11, 12])"
      ]
     },
     "execution_count": 60,
     "metadata": {},
     "output_type": "execute_result"
    }
   ],
   "source": [
    "np.hstack((a,b,c))"
   ]
  },
  {
   "cell_type": "code",
   "execution_count": 61,
   "id": "13b2bd4f",
   "metadata": {},
   "outputs": [],
   "source": [
    "# 2. vstack() ===> it will combined multiple array into vertically"
   ]
  },
  {
   "cell_type": "code",
   "execution_count": 62,
   "id": "1aacba0d",
   "metadata": {},
   "outputs": [
    {
     "data": {
      "text/plain": [
       "array([[ 1,  2,  3,  4],\n",
       "       [ 5,  6,  7,  8],\n",
       "       [ 9, 10, 11, 12]])"
      ]
     },
     "execution_count": 62,
     "metadata": {},
     "output_type": "execute_result"
    }
   ],
   "source": [
    "np.vstack((a,b,c))"
   ]
  },
  {
   "cell_type": "code",
   "execution_count": null,
   "id": "e523eb3c",
   "metadata": {},
   "outputs": [],
   "source": []
  },
  {
   "cell_type": "code",
   "execution_count": null,
   "id": "4788b059",
   "metadata": {},
   "outputs": [],
   "source": []
  }
 ],
 "metadata": {
  "kernelspec": {
   "display_name": "Python 3 (ipykernel)",
   "language": "python",
   "name": "python3"
  },
  "language_info": {
   "codemirror_mode": {
    "name": "ipython",
    "version": 3
   },
   "file_extension": ".py",
   "mimetype": "text/x-python",
   "name": "python",
   "nbconvert_exporter": "python",
   "pygments_lexer": "ipython3",
   "version": "3.10.9"
  }
 },
 "nbformat": 4,
 "nbformat_minor": 5
}
